{
 "cells": [
  {
   "cell_type": "markdown",
   "metadata": {},
   "source": [
    "Para encontrar raices en más de una dimensión se sigue un procedimiento análogo con el método de Newton-Raphson. PAra encontrar la ecuación de un plano, en general tenemos:\n",
    "$$ (\\vec r - \\vec r_0) \\cdot \\hat n = 0 $$\n",
    "rn general es $\\hat n$ puede verse como:\n",
    "$$\n",
    "\\vec f  (x, y, z, ...) = \\vec f (x(t),y(t), z(t), ...)\\\\\n",
    "\\nabla \\vec f \\cdot (\\frac{dx}{dt},\\frac{dy}{dt},\\frac{dz}{dt},...) = \\mathbb{J}\\cdot (\\frac{dx}{dt},\\frac{dy}{dt},\\frac{dz}{dt},...)\n",
    "$$\n",
    "entonces $\\hat n$ es la inversa de ésta última igualdad"
   ]
  },
  {
   "cell_type": "code",
   "execution_count": null,
   "metadata": {
    "collapsed": true
   },
   "outputs": [],
   "source": []
  }
 ],
 "metadata": {
  "kernelspec": {
   "display_name": "Python [Root]",
   "language": "python",
   "name": "Python [Root]"
  },
  "language_info": {
   "codemirror_mode": {
    "name": "ipython",
    "version": 2
   },
   "file_extension": ".py",
   "mimetype": "text/x-python",
   "name": "python",
   "nbconvert_exporter": "python",
   "pygments_lexer": "ipython2",
   "version": "2.7.12"
  }
 },
 "nbformat": 4,
 "nbformat_minor": 0
}
